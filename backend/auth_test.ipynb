{
 "cells": [
  {
   "cell_type": "code",
   "execution_count": 2,
   "metadata": {},
   "outputs": [],
   "source": [
    "import requests\n",
    "\n",
    "def get_user_info(access_token):\n",
    "    url = \"https://www.googleapis.com/userinfo/v2/me\"\n",
    "    headers = {\n",
    "        'Authorization': 'Bearer ' + access_token\n",
    "    }\n",
    "\n",
    "    response = requests.get(url, headers=headers)\n",
    "\n",
    "    if response.status_code == 200:\n",
    "        user = response.json()\n",
    "        return user['email']\n",
    "    elif response.status_code == 401:\n",
    "        print(response)\n"
   ]
  },
  {
   "cell_type": "code",
   "execution_count": 3,
   "metadata": {},
   "outputs": [
    {
     "name": "stdout",
     "output_type": "stream",
     "text": [
      "discussion.abstract@gmail.com\n"
     ]
    }
   ],
   "source": [
    "access_token = \"ya29.a0AfB_byCezhmhVR7LRFcGR99N6hQsIf4WKAwNDz4uf4L2U4oQTDjmZqFcGQ5ZxrVh21WbVwKfAfGkHKbsf9MY04lQZ2Qog4BP910-epYco1TJiwNIvhiToIhMB0U-57s4R5Iy0KQevr7a0v71jLJrirbntEPEimX03waCgYKAa4SARESFQHGX2MirMtDNjuEAyjAXPlsJxLkrw0168\"\n",
    "user_email = get_user_info(access_token)\n",
    "print(user_email)"
   ]
  }
 ],
 "metadata": {
  "kernelspec": {
   "display_name": "venv",
   "language": "python",
   "name": "python3"
  },
  "language_info": {
   "codemirror_mode": {
    "name": "ipython",
    "version": 3
   },
   "file_extension": ".py",
   "mimetype": "text/x-python",
   "name": "python",
   "nbconvert_exporter": "python",
   "pygments_lexer": "ipython3",
   "version": "3.11.4"
  }
 },
 "nbformat": 4,
 "nbformat_minor": 2
}
